{
 "cells": [
  {
   "cell_type": "code",
   "execution_count": 1,
   "id": "5c9d7270",
   "metadata": {
    "execution": {
     "iopub.execute_input": "2024-03-21T12:00:47.119791Z",
     "iopub.status.busy": "2024-03-21T12:00:47.119391Z",
     "iopub.status.idle": "2024-03-21T12:01:03.003627Z",
     "shell.execute_reply": "2024-03-21T12:01:03.002520Z"
    },
    "papermill": {
     "duration": 15.893887,
     "end_time": "2024-03-21T12:01:03.006142",
     "exception": false,
     "start_time": "2024-03-21T12:00:47.112255",
     "status": "completed"
    },
    "tags": []
   },
   "outputs": [
    {
     "name": "stderr",
     "output_type": "stream",
     "text": [
      "2024-03-21 12:00:49.500097: E external/local_xla/xla/stream_executor/cuda/cuda_dnn.cc:9261] Unable to register cuDNN factory: Attempting to register factory for plugin cuDNN when one has already been registered\n",
      "2024-03-21 12:00:49.500242: E external/local_xla/xla/stream_executor/cuda/cuda_fft.cc:607] Unable to register cuFFT factory: Attempting to register factory for plugin cuFFT when one has already been registered\n",
      "2024-03-21 12:00:49.682520: E external/local_xla/xla/stream_executor/cuda/cuda_blas.cc:1515] Unable to register cuBLAS factory: Attempting to register factory for plugin cuBLAS when one has already been registered\n"
     ]
    },
    {
     "name": "stdout",
     "output_type": "stream",
     "text": [
      "找到了 13个词\n",
      "这3句话(单词)的序号编码： [[2, 3, 4, 1, 5, 6], [7, 8, 9, 1, 10, 11], [12, 13]]\n",
      "这3句话（单词）的One-hot编码： [[0. 1. 1. 1. 1. 1. 1. 0. 0. 0. 0. 0. 0. 0. 0. 0. 0. 0. 0. 0. 0. 0. 0. 0.\n",
      "  0. 0. 0. 0. 0. 0.]\n",
      " [0. 1. 0. 0. 0. 0. 0. 1. 1. 1. 1. 1. 0. 0. 0. 0. 0. 0. 0. 0. 0. 0. 0. 0.\n",
      "  0. 0. 0. 0. 0. 0.]\n",
      " [0. 0. 0. 0. 0. 0. 0. 0. 0. 0. 0. 0. 1. 1. 0. 0. 0. 0. 0. 0. 0. 0. 0. 0.\n",
      "  0. 0. 0. 0. 0. 0.]]\n"
     ]
    }
   ],
   "source": [
    "# 尝试分词\n",
    "from tensorflow.keras.preprocessing.text import Tokenizer\n",
    "    \n",
    "words = ['Lao Wang has a Wechat account.', 'He is not a nice person.', 'Be careful.']\n",
    "tokenizer = Tokenizer(num_words = 30)\n",
    "tokenizer.fit_on_texts(words)\n",
    "sequences = tokenizer.texts_to_sequences(words)\n",
    "\n",
    "one_hot_matrix = tokenizer.texts_to_matrix(words, mode='binary')\n",
    "word_index = tokenizer.word_index\n",
    "print('找到了 %s个词' % len(word_index))\n",
    "print('这3句话(单词)的序号编码：' , sequences)\n",
    "print('这3句话（单词）的One-hot编码：' , one_hot_matrix)"
   ]
  },
  {
   "cell_type": "code",
   "execution_count": 2,
   "id": "b7a2c1a2",
   "metadata": {
    "execution": {
     "iopub.execute_input": "2024-03-21T12:01:03.018316Z",
     "iopub.status.busy": "2024-03-21T12:01:03.017620Z",
     "iopub.status.idle": "2024-03-21T12:01:03.276510Z",
     "shell.execute_reply": "2024-03-21T12:01:03.275299Z"
    },
    "papermill": {
     "duration": 0.267885,
     "end_time": "2024-03-21T12:01:03.279088",
     "exception": false,
     "start_time": "2024-03-21T12:01:03.011203",
     "status": "completed"
    },
    "tags": []
   },
   "outputs": [
    {
     "data": {
      "text/html": [
       "<div>\n",
       "<style scoped>\n",
       "    .dataframe tbody tr th:only-of-type {\n",
       "        vertical-align: middle;\n",
       "    }\n",
       "\n",
       "    .dataframe tbody tr th {\n",
       "        vertical-align: top;\n",
       "    }\n",
       "\n",
       "    .dataframe thead th {\n",
       "        text-align: right;\n",
       "    }\n",
       "</style>\n",
       "<table border=\"1\" class=\"dataframe\">\n",
       "  <thead>\n",
       "    <tr style=\"text-align: right;\">\n",
       "      <th></th>\n",
       "      <th>id</th>\n",
       "      <th>Review Text</th>\n",
       "      <th>Rating</th>\n",
       "    </tr>\n",
       "  </thead>\n",
       "  <tbody>\n",
       "    <tr>\n",
       "      <th>0</th>\n",
       "      <td>0</td>\n",
       "      <td>Absolutely wonderful - silky and comfortable</td>\n",
       "      <td>4</td>\n",
       "    </tr>\n",
       "    <tr>\n",
       "      <th>1</th>\n",
       "      <td>1</td>\n",
       "      <td>Love this dress!  it's sooo pretty.  i happene...</td>\n",
       "      <td>5</td>\n",
       "    </tr>\n",
       "    <tr>\n",
       "      <th>2</th>\n",
       "      <td>2</td>\n",
       "      <td>I had such high hopes for this dress and reall...</td>\n",
       "      <td>3</td>\n",
       "    </tr>\n",
       "    <tr>\n",
       "      <th>3</th>\n",
       "      <td>3</td>\n",
       "      <td>I love, love, love this jumpsuit. it's fun, fl...</td>\n",
       "      <td>5</td>\n",
       "    </tr>\n",
       "    <tr>\n",
       "      <th>4</th>\n",
       "      <td>4</td>\n",
       "      <td>This shirt is very flattering to all due to th...</td>\n",
       "      <td>5</td>\n",
       "    </tr>\n",
       "  </tbody>\n",
       "</table>\n",
       "</div>"
      ],
      "text/plain": [
       "   id                                        Review Text  Rating\n",
       "0   0       Absolutely wonderful - silky and comfortable       4\n",
       "1   1  Love this dress!  it's sooo pretty.  i happene...       5\n",
       "2   2  I had such high hopes for this dress and reall...       3\n",
       "3   3  I love, love, love this jumpsuit. it's fun, fl...       5\n",
       "4   4  This shirt is very flattering to all due to th...       5"
      ]
     },
     "execution_count": 2,
     "metadata": {},
     "output_type": "execute_result"
    }
   ],
   "source": [
    "import pandas as pd\n",
    "import numpy as np\n",
    "\n",
    "df_comments = pd.read_csv(\"/kaggle/input/product-comments/Clothing Reviews.csv\")\n",
    "df_comments.head()\n",
    "# df_comments[\"Review Text\"]"
   ]
  },
  {
   "cell_type": "code",
   "execution_count": 3,
   "id": "34b7a426",
   "metadata": {
    "execution": {
     "iopub.execute_input": "2024-03-21T12:01:03.291189Z",
     "iopub.status.busy": "2024-03-21T12:01:03.290820Z",
     "iopub.status.idle": "2024-03-21T12:01:05.964726Z",
     "shell.execute_reply": "2024-03-21T12:01:05.963275Z"
    },
    "papermill": {
     "duration": 2.686457,
     "end_time": "2024-03-21T12:01:05.970853",
     "exception": false,
     "start_time": "2024-03-21T12:01:03.284396",
     "status": "completed"
    },
    "tags": []
   },
   "outputs": [
    {
     "data": {
      "text/plain": [
       "([253, 532, 917, 3, 68], 4)"
      ]
     },
     "execution_count": 3,
     "metadata": {},
     "output_type": "execute_result"
    }
   ],
   "source": [
    "from tensorflow.keras.preprocessing.text import Tokenizer\n",
    "    \n",
    "train_words = df_comments[\"Review Text\"]\n",
    "dictionary_size = 20000\n",
    "tokenizer = Tokenizer(num_words = dictionary_size)\n",
    "tokenizer.fit_on_texts(train_words)\n",
    "X_train_tokened = tokenizer.texts_to_sequences(train_words)\n",
    "y_train = df_comments[\"Rating\"]\n",
    "X_train_tokened[0], y_train[0]\n",
    "\n",
    "# one_hot_matrix = tokenizer.texts_to_matrix(train_words, mode='binary')\n",
    "# word_index = tokenizer.word_index\n",
    "# print('找到了 %s个词' % len(word_index))\n",
    "# print('这3句话(单词)的序号编码：' , sequences)\n",
    "# print('这3句话（单词）的One-hot编码：' , one_hot_matrix)"
   ]
  },
  {
   "cell_type": "code",
   "execution_count": 4,
   "id": "3bf0ca37",
   "metadata": {
    "execution": {
     "iopub.execute_input": "2024-03-21T12:01:05.989290Z",
     "iopub.status.busy": "2024-03-21T12:01:05.988898Z",
     "iopub.status.idle": "2024-03-21T12:01:06.000234Z",
     "shell.execute_reply": "2024-03-21T12:01:05.999036Z"
    },
    "papermill": {
     "duration": 0.021303,
     "end_time": "2024-03-21T12:01:06.002840",
     "exception": false,
     "start_time": "2024-03-21T12:01:05.981537",
     "status": "completed"
    },
    "tags": []
   },
   "outputs": [
    {
     "data": {
      "text/plain": [
       "(22641,)"
      ]
     },
     "execution_count": 4,
     "metadata": {},
     "output_type": "execute_result"
    }
   ],
   "source": [
    "len(X_train_tokened), len(train_words)\n",
    "y_train.shape"
   ]
  },
  {
   "cell_type": "code",
   "execution_count": 5,
   "id": "3e7ba84d",
   "metadata": {
    "execution": {
     "iopub.execute_input": "2024-03-21T12:01:06.017117Z",
     "iopub.status.busy": "2024-03-21T12:01:06.016608Z",
     "iopub.status.idle": "2024-03-21T12:01:06.510067Z",
     "shell.execute_reply": "2024-03-21T12:01:06.507706Z"
    },
    "papermill": {
     "duration": 0.504732,
     "end_time": "2024-03-21T12:01:06.513474",
     "exception": false,
     "start_time": "2024-03-21T12:01:06.008742",
     "status": "completed"
    },
    "tags": []
   },
   "outputs": [
    {
     "data": {
      "image/png": "[encoded data removed]",
      "text/plain": [
       "<Figure size 640x480 with 1 Axes>"
      ]
     },
     "metadata": {},
     "output_type": "display_data"
    }
   ],
   "source": [
    "import matplotlib.pyplot as plt\n",
    "\n",
    "word_per_comments = [len(comment) for comment in X_train_tokened]\n",
    "plt.hist(word_per_comments, bins=np.arange(0,500,10)) # 直方图\n",
    "plt.show()"
   ]
  },
  {
   "cell_type": "code",
   "execution_count": 6,
   "id": "fc8bb8d6",
   "metadata": {
    "execution": {
     "iopub.execute_input": "2024-03-21T12:01:06.530654Z",
     "iopub.status.busy": "2024-03-21T12:01:06.530040Z",
     "iopub.status.idle": "2024-03-21T12:01:06.540891Z",
     "shell.execute_reply": "2024-03-21T12:01:06.539308Z"
    },
    "papermill": {
     "duration": 0.023721,
     "end_time": "2024-03-21T12:01:06.544265",
     "exception": false,
     "start_time": "2024-03-21T12:01:06.520544",
     "status": "completed"
    },
    "tags": []
   },
   "outputs": [
    {
     "data": {
      "text/plain": [
       "116"
      ]
     },
     "execution_count": 6,
     "metadata": {},
     "output_type": "execute_result"
    }
   ],
   "source": [
    "tmp = np.array(word_per_comments)\n",
    "tmp.max() # 最长的评论是116个单词"
   ]
  },
  {
   "cell_type": "code",
   "execution_count": 7,
   "id": "2f217840",
   "metadata": {
    "execution": {
     "iopub.execute_input": "2024-03-21T12:01:06.559565Z",
     "iopub.status.busy": "2024-03-21T12:01:06.559139Z",
     "iopub.status.idle": "2024-03-21T12:01:06.776185Z",
     "shell.execute_reply": "2024-03-21T12:01:06.775378Z"
    },
    "papermill": {
     "duration": 0.227457,
     "end_time": "2024-03-21T12:01:06.778499",
     "exception": false,
     "start_time": "2024-03-21T12:01:06.551042",
     "status": "completed"
    },
    "tags": []
   },
   "outputs": [
    {
     "data": {
      "text/plain": [
       "array([  0,   0,   0,   0,   0,   0,   0,   0,   0,   0,   0,   0,   0,\n",
       "         0,   0,   0,   0,   0,   0,   0,   0,   0,   0,   0,   0,   0,\n",
       "         0,   0,   0,   0,   0,   0,   0,   0,   0,   0,   0,   0,   0,\n",
       "         0,   0,   0,   0,   0,   0,   0,   0,   0,   0,   0,   0,   0,\n",
       "         0,   0,   0,   0,   0,   0,   0,   0,   0,   0,   0,   0,   0,\n",
       "         0,   0,   0,   0,   0,   0,   0,   0,   0,   0,   0,   0,   0,\n",
       "         0,   0,   0,   0,   0,   0,   0,   0,   0,   0,   0,   0,   0,\n",
       "         0,   0,   0,   0,   0,   0,   0,   0,   0,   0,   0,   0,   0,\n",
       "         0,   0,   0,   0,   0,   0,   0,   0,   0,   0,   0, 253, 532,\n",
       "       917,   3,  68], dtype=int32)"
      ]
     },
     "execution_count": 7,
     "metadata": {},
     "output_type": "execute_result"
    }
   ],
   "source": [
    "from keras.preprocessing.sequence import pad_sequences\n",
    "\n",
    "max_words_len = 120\n",
    "X_train = pad_sequences(X_train_tokened, maxlen=max_words_len)\n",
    "X_train[0]"
   ]
  },
  {
   "cell_type": "code",
   "execution_count": 8,
   "id": "b53f3671",
   "metadata": {
    "execution": {
     "iopub.execute_input": "2024-03-21T12:01:06.792492Z",
     "iopub.status.busy": "2024-03-21T12:01:06.792031Z",
     "iopub.status.idle": "2024-03-21T12:01:06.869864Z",
     "shell.execute_reply": "2024-03-21T12:01:06.869053Z"
    },
    "papermill": {
     "duration": 0.087264,
     "end_time": "2024-03-21T12:01:06.871877",
     "exception": false,
     "start_time": "2024-03-21T12:01:06.784613",
     "status": "completed"
    },
    "tags": []
   },
   "outputs": [
    {
     "data": {
      "text/html": [
       "<pre style=\"white-space:pre;overflow-x:auto;line-height:normal;font-family:Menlo,'DejaVu Sans Mono',consolas,'Courier New',monospace\"><span style=\"font-weight: bold\">Model: \"sequential\"</span>\n",
       "</pre>\n"
      ],
      "text/plain": [
       "\u001b[1mModel: \"sequential\"\u001b[0m\n"
      ]
     },
     "metadata": {},
     "output_type": "display_data"
    },
    {
     "data": {
      "text/html": [
       "<pre style=\"white-space:pre;overflow-x:auto;line-height:normal;font-family:Menlo,'DejaVu Sans Mono',consolas,'Courier New',monospace\">┏━━━━━━━━━━━━━━━━━━━━━━━━━━━━━━━━━┳━━━━━━━━━━━━━━━━━━━━━━━━┳━━━━━━━━━━━━━━━┓\n",
       "┃<span style=\"font-weight: bold\"> Layer (type)                    </span>┃<span style=\"font-weight: bold\"> Output Shape           </span>┃<span style=\"font-weight: bold\">       Param # </span>┃\n",
       "┡━━━━━━━━━━━━━━━━━━━━━━━━━━━━━━━━━╇━━━━━━━━━━━━━━━━━━━━━━━━╇━━━━━━━━━━━━━━━┩\n",
       "│ embedding (<span style=\"color: #0087ff; text-decoration-color: #0087ff\">Embedding</span>)           │ ?                      │   <span style=\"color: #00af00; text-decoration-color: #00af00\">0</span> (unbuilt) │\n",
       "├─────────────────────────────────┼────────────────────────┼───────────────┤\n",
       "│ simple_rnn (<span style=\"color: #0087ff; text-decoration-color: #0087ff\">SimpleRNN</span>)          │ ?                      │   <span style=\"color: #00af00; text-decoration-color: #00af00\">0</span> (unbuilt) │\n",
       "├─────────────────────────────────┼────────────────────────┼───────────────┤\n",
       "│ dense (<span style=\"color: #0087ff; text-decoration-color: #0087ff\">Dense</span>)                   │ ?                      │   <span style=\"color: #00af00; text-decoration-color: #00af00\">0</span> (unbuilt) │\n",
       "├─────────────────────────────────┼────────────────────────┼───────────────┤\n",
       "│ dense_1 (<span style=\"color: #0087ff; text-decoration-color: #0087ff\">Dense</span>)                 │ ?                      │   <span style=\"color: #00af00; text-decoration-color: #00af00\">0</span> (unbuilt) │\n",
       "└─────────────────────────────────┴────────────────────────┴───────────────┘\n",
       "</pre>\n"
      ],
      "text/plain": [
       "┏━━━━━━━━━━━━━━━━━━━━━━━━━━━━━━━━━┳━━━━━━━━━━━━━━━━━━━━━━━━┳━━━━━━━━━━━━━━━┓\n",
       "┃\u001b[1m \u001b[0m\u001b[1mLayer (type)                   \u001b[0m\u001b[1m \u001b[0m┃\u001b[1m \u001b[0m\u001b[1mOutput Shape          \u001b[0m\u001b[1m \u001b[0m┃\u001b[1m \u001b[0m\u001b[1m      Param #\u001b[0m\u001b[1m \u001b[0m┃\n",
       "┡━━━━━━━━━━━━━━━━━━━━━━━━━━━━━━━━━╇━━━━━━━━━━━━━━━━━━━━━━━━╇━━━━━━━━━━━━━━━┩\n",
       "│ embedding (\u001b[38;5;33mEmbedding\u001b[0m)           │ ?                      │   \u001b[38;5;34m0\u001b[0m (unbuilt) │\n",
       "├─────────────────────────────────┼────────────────────────┼───────────────┤\n",
       "│ simple_rnn (\u001b[38;5;33mSimpleRNN\u001b[0m)          │ ?                      │   \u001b[38;5;34m0\u001b[0m (unbuilt) │\n",
       "├─────────────────────────────────┼────────────────────────┼───────────────┤\n",
       "│ dense (\u001b[38;5;33mDense\u001b[0m)                   │ ?                      │   \u001b[38;5;34m0\u001b[0m (unbuilt) │\n",
       "├─────────────────────────────────┼────────────────────────┼───────────────┤\n",
       "│ dense_1 (\u001b[38;5;33mDense\u001b[0m)                 │ ?                      │   \u001b[38;5;34m0\u001b[0m (unbuilt) │\n",
       "└─────────────────────────────────┴────────────────────────┴───────────────┘\n"
      ]
     },
     "metadata": {},
     "output_type": "display_data"
    },
    {
     "data": {
      "text/html": [
       "<pre style=\"white-space:pre;overflow-x:auto;line-height:normal;font-family:Menlo,'DejaVu Sans Mono',consolas,'Courier New',monospace\"><span style=\"font-weight: bold\"> Total params: </span><span style=\"color: #00af00; text-decoration-color: #00af00\">0</span> (0.00 B)\n",
       "</pre>\n"
      ],
      "text/plain": [
       "\u001b[1m Total params: \u001b[0m\u001b[38;5;34m0\u001b[0m (0.00 B)\n"
      ]
     },
     "metadata": {},
     "output_type": "display_data"
    },
    {
     "data": {
      "text/html": [
       "<pre style=\"white-space:pre;overflow-x:auto;line-height:normal;font-family:Menlo,'DejaVu Sans Mono',consolas,'Courier New',monospace\"><span style=\"font-weight: bold\"> Trainable params: </span><span style=\"color: #00af00; text-decoration-color: #00af00\">0</span> (0.00 B)\n",
       "</pre>\n"
      ],
      "text/plain": [
       "\u001b[1m Trainable params: \u001b[0m\u001b[38;5;34m0\u001b[0m (0.00 B)\n"
      ]
     },
     "metadata": {},
     "output_type": "display_data"
    },
    {
     "data": {
      "text/html": [
       "<pre style=\"white-space:pre;overflow-x:auto;line-height:normal;font-family:Menlo,'DejaVu Sans Mono',consolas,'Courier New',monospace\"><span style=\"font-weight: bold\"> Non-trainable params: </span><span style=\"color: #00af00; text-decoration-color: #00af00\">0</span> (0.00 B)\n",
       "</pre>\n"
      ],
      "text/plain": [
       "\u001b[1m Non-trainable params: \u001b[0m\u001b[38;5;34m0\u001b[0m (0.00 B)\n"
      ]
     },
     "metadata": {},
     "output_type": "display_data"
    },
    {
     "name": "stdout",
     "output_type": "stream",
     "text": [
      "None\n"
     ]
    }
   ],
   "source": [
    "# 词嵌入\n",
    "from keras.models import Sequential\n",
    "from keras.layers import Embedding\n",
    "from keras.layers import Dense\n",
    "from keras.layers import SimpleRNN # 简单循环神经网络\n",
    "\n",
    "embedding_vector_lenth = 60 # 词嵌入向量的长度为60\n",
    "rnn = Sequential()\n",
    "rnn.add(Embedding(dictionary_size, embedding_vector_lenth)) # no input_lenth, why?\n",
    "rnn.add(SimpleRNN(100))\n",
    "rnn.add(Dense(10, activation='relu')) # 全连接层\n",
    "rnn.add(Dense(6, activation='softmax')) # 分类输出层\n",
    "rnn.compile(loss='sparse_categorical_crossentropy',\n",
    "           optimizer='adam',\n",
    "           metrics=['acc'])\n",
    "print(rnn.summary())\n"
   ]
  },
  {
   "cell_type": "code",
   "execution_count": 9,
   "id": "53b94b12",
   "metadata": {
    "execution": {
     "iopub.execute_input": "2024-03-21T12:01:06.888737Z",
     "iopub.status.busy": "2024-03-21T12:01:06.887788Z",
     "iopub.status.idle": "2024-03-21T12:03:59.648256Z",
     "shell.execute_reply": "2024-03-21T12:03:59.647128Z"
    },
    "papermill": {
     "duration": 172.771919,
     "end_time": "2024-03-21T12:03:59.651093",
     "exception": false,
     "start_time": "2024-03-21T12:01:06.879174",
     "status": "completed"
    },
    "tags": []
   },
   "outputs": [
    {
     "name": "stdout",
     "output_type": "stream",
     "text": [
      "Epoch 1/10\n",
      "\u001b[1m248/248\u001b[0m \u001b[32m━━━━━━━━━━━━━━━━━━━━\u001b[0m\u001b[37m\u001b[0m \u001b[1m15s\u001b[0m 49ms/step - acc: 0.4456 - loss: 1.3561 - val_acc: 0.5559 - val_loss: 1.1204\n",
      "Epoch 2/10\n",
      "\u001b[1m248/248\u001b[0m \u001b[32m━━━━━━━━━━━━━━━━━━━━\u001b[0m\u001b[37m\u001b[0m \u001b[1m12s\u001b[0m 46ms/step - acc: 0.5845 - loss: 1.0214 - val_acc: 0.5665 - val_loss: 1.0507\n",
      "Epoch 3/10\n",
      "\u001b[1m248/248\u001b[0m \u001b[32m━━━━━━━━━━━━━━━━━━━━\u001b[0m\u001b[37m\u001b[0m \u001b[1m21s\u001b[0m 47ms/step - acc: 0.6486 - loss: 0.8679 - val_acc: 0.5816 - val_loss: 1.0606\n",
      "Epoch 4/10\n",
      "\u001b[1m248/248\u001b[0m \u001b[32m━━━━━━━━━━━━━━━━━━━━\u001b[0m\u001b[37m\u001b[0m \u001b[1m11s\u001b[0m 46ms/step - acc: 0.7463 - loss: 0.6384 - val_acc: 0.5423 - val_loss: 1.1988\n",
      "Epoch 5/10\n",
      "\u001b[1m248/248\u001b[0m \u001b[32m━━━━━━━━━━━━━━━━━━━━\u001b[0m\u001b[37m\u001b[0m \u001b[1m12s\u001b[0m 47ms/step - acc: 0.8146 - loss: 0.4657 - val_acc: 0.5516 - val_loss: 1.4247\n",
      "Epoch 6/10\n",
      "\u001b[1m248/248\u001b[0m \u001b[32m━━━━━━━━━━━━━━━━━━━━\u001b[0m\u001b[37m\u001b[0m \u001b[1m21s\u001b[0m 48ms/step - acc: 0.8755 - loss: 0.3389 - val_acc: 0.5320 - val_loss: 1.6401\n",
      "Epoch 7/10\n",
      "\u001b[1m248/248\u001b[0m \u001b[32m━━━━━━━━━━━━━━━━━━━━\u001b[0m\u001b[37m\u001b[0m \u001b[1m12s\u001b[0m 48ms/step - acc: 0.9281 - loss: 0.2204 - val_acc: 0.4940 - val_loss: 2.0739\n",
      "Epoch 8/10\n",
      "\u001b[1m248/248\u001b[0m \u001b[32m━━━━━━━━━━━━━━━━━━━━\u001b[0m\u001b[37m\u001b[0m \u001b[1m20s\u001b[0m 47ms/step - acc: 0.9494 - loss: 0.1599 - val_acc: 0.5189 - val_loss: 2.2077\n",
      "Epoch 9/10\n",
      "\u001b[1m248/248\u001b[0m \u001b[32m━━━━━━━━━━━━━━━━━━━━\u001b[0m\u001b[37m\u001b[0m \u001b[1m21s\u001b[0m 48ms/step - acc: 0.9614 - loss: 0.1225 - val_acc: 0.5252 - val_loss: 2.5167\n",
      "Epoch 10/10\n",
      "\u001b[1m248/248\u001b[0m \u001b[32m━━━━━━━━━━━━━━━━━━━━\u001b[0m\u001b[37m\u001b[0m \u001b[1m20s\u001b[0m 46ms/step - acc: 0.9722 - loss: 0.0847 - val_acc: 0.5089 - val_loss: 2.6427\n"
     ]
    }
   ],
   "source": [
    "history = rnn.fit(X_train, y_train, validation_split = 0.3, epochs=10, batch_size=64)"
   ]
  },
  {
   "cell_type": "code",
   "execution_count": 10,
   "id": "97ff4e18",
   "metadata": {
    "execution": {
     "iopub.execute_input": "2024-03-21T12:03:59.982883Z",
     "iopub.status.busy": "2024-03-21T12:03:59.982446Z",
     "iopub.status.idle": "2024-03-21T12:04:00.018691Z",
     "shell.execute_reply": "2024-03-21T12:04:00.017766Z"
    },
    "papermill": {
     "duration": 0.238659,
     "end_time": "2024-03-21T12:04:00.020864",
     "exception": false,
     "start_time": "2024-03-21T12:03:59.782205",
     "status": "completed"
    },
    "tags": []
   },
   "outputs": [
    {
     "data": {
      "text/html": [
       "<pre style=\"white-space:pre;overflow-x:auto;line-height:normal;font-family:Menlo,'DejaVu Sans Mono',consolas,'Courier New',monospace\"><span style=\"font-weight: bold\">Model: \"sequential_1\"</span>\n",
       "</pre>\n"
      ],
      "text/plain": [
       "\u001b[1mModel: \"sequential_1\"\u001b[0m\n"
      ]
     },
     "metadata": {},
     "output_type": "display_data"
    },
    {
     "data": {
      "text/html": [
       "<pre style=\"white-space:pre;overflow-x:auto;line-height:normal;font-family:Menlo,'DejaVu Sans Mono',consolas,'Courier New',monospace\">┏━━━━━━━━━━━━━━━━━━━━━━━━━━━━━━━━━┳━━━━━━━━━━━━━━━━━━━━━━━━┳━━━━━━━━━━━━━━━┓\n",
       "┃<span style=\"font-weight: bold\"> Layer (type)                    </span>┃<span style=\"font-weight: bold\"> Output Shape           </span>┃<span style=\"font-weight: bold\">       Param # </span>┃\n",
       "┡━━━━━━━━━━━━━━━━━━━━━━━━━━━━━━━━━╇━━━━━━━━━━━━━━━━━━━━━━━━╇━━━━━━━━━━━━━━━┩\n",
       "│ embedding_1 (<span style=\"color: #0087ff; text-decoration-color: #0087ff\">Embedding</span>)         │ ?                      │   <span style=\"color: #00af00; text-decoration-color: #00af00\">0</span> (unbuilt) │\n",
       "├─────────────────────────────────┼────────────────────────┼───────────────┤\n",
       "│ lstm (<span style=\"color: #0087ff; text-decoration-color: #0087ff\">LSTM</span>)                     │ ?                      │   <span style=\"color: #00af00; text-decoration-color: #00af00\">0</span> (unbuilt) │\n",
       "├─────────────────────────────────┼────────────────────────┼───────────────┤\n",
       "│ dense_2 (<span style=\"color: #0087ff; text-decoration-color: #0087ff\">Dense</span>)                 │ ?                      │   <span style=\"color: #00af00; text-decoration-color: #00af00\">0</span> (unbuilt) │\n",
       "├─────────────────────────────────┼────────────────────────┼───────────────┤\n",
       "│ dense_3 (<span style=\"color: #0087ff; text-decoration-color: #0087ff\">Dense</span>)                 │ ?                      │   <span style=\"color: #00af00; text-decoration-color: #00af00\">0</span> (unbuilt) │\n",
       "└─────────────────────────────────┴────────────────────────┴───────────────┘\n",
       "</pre>\n"
      ],
      "text/plain": [
       "┏━━━━━━━━━━━━━━━━━━━━━━━━━━━━━━━━━┳━━━━━━━━━━━━━━━━━━━━━━━━┳━━━━━━━━━━━━━━━┓\n",
       "┃\u001b[1m \u001b[0m\u001b[1mLayer (type)                   \u001b[0m\u001b[1m \u001b[0m┃\u001b[1m \u001b[0m\u001b[1mOutput Shape          \u001b[0m\u001b[1m \u001b[0m┃\u001b[1m \u001b[0m\u001b[1m      Param #\u001b[0m\u001b[1m \u001b[0m┃\n",
       "┡━━━━━━━━━━━━━━━━━━━━━━━━━━━━━━━━━╇━━━━━━━━━━━━━━━━━━━━━━━━╇━━━━━━━━━━━━━━━┩\n",
       "│ embedding_1 (\u001b[38;5;33mEmbedding\u001b[0m)         │ ?                      │   \u001b[38;5;34m0\u001b[0m (unbuilt) │\n",
       "├─────────────────────────────────┼────────────────────────┼───────────────┤\n",
       "│ lstm (\u001b[38;5;33mLSTM\u001b[0m)                     │ ?                      │   \u001b[38;5;34m0\u001b[0m (unbuilt) │\n",
       "├─────────────────────────────────┼────────────────────────┼───────────────┤\n",
       "│ dense_2 (\u001b[38;5;33mDense\u001b[0m)                 │ ?                      │   \u001b[38;5;34m0\u001b[0m (unbuilt) │\n",
       "├─────────────────────────────────┼────────────────────────┼───────────────┤\n",
       "│ dense_3 (\u001b[38;5;33mDense\u001b[0m)                 │ ?                      │   \u001b[38;5;34m0\u001b[0m (unbuilt) │\n",
       "└─────────────────────────────────┴────────────────────────┴───────────────┘\n"
      ]
     },
     "metadata": {},
     "output_type": "display_data"
    },
    {
     "data": {
      "text/html": [
       "<pre style=\"white-space:pre;overflow-x:auto;line-height:normal;font-family:Menlo,'DejaVu Sans Mono',consolas,'Courier New',monospace\"><span style=\"font-weight: bold\"> Total params: </span><span style=\"color: #00af00; text-decoration-color: #00af00\">0</span> (0.00 B)\n",
       "</pre>\n"
      ],
      "text/plain": [
       "\u001b[1m Total params: \u001b[0m\u001b[38;5;34m0\u001b[0m (0.00 B)\n"
      ]
     },
     "metadata": {},
     "output_type": "display_data"
    },
    {
     "data": {
      "text/html": [
       "<pre style=\"white-space:pre;overflow-x:auto;line-height:normal;font-family:Menlo,'DejaVu Sans Mono',consolas,'Courier New',monospace\"><span style=\"font-weight: bold\"> Trainable params: </span><span style=\"color: #00af00; text-decoration-color: #00af00\">0</span> (0.00 B)\n",
       "</pre>\n"
      ],
      "text/plain": [
       "\u001b[1m Trainable params: \u001b[0m\u001b[38;5;34m0\u001b[0m (0.00 B)\n"
      ]
     },
     "metadata": {},
     "output_type": "display_data"
    },
    {
     "data": {
      "text/html": [
       "<pre style=\"white-space:pre;overflow-x:auto;line-height:normal;font-family:Menlo,'DejaVu Sans Mono',consolas,'Courier New',monospace\"><span style=\"font-weight: bold\"> Non-trainable params: </span><span style=\"color: #00af00; text-decoration-color: #00af00\">0</span> (0.00 B)\n",
       "</pre>\n"
      ],
      "text/plain": [
       "\u001b[1m Non-trainable params: \u001b[0m\u001b[38;5;34m0\u001b[0m (0.00 B)\n"
      ]
     },
     "metadata": {},
     "output_type": "display_data"
    },
    {
     "name": "stdout",
     "output_type": "stream",
     "text": [
      "None\n"
     ]
    }
   ],
   "source": [
    "# 词嵌入\n",
    "from keras.models import Sequential\n",
    "from keras.layers import Embedding\n",
    "from keras.layers import Dense\n",
    "from keras.layers import LSTM # 更高级的LSTM循环神经网络\n",
    "\n",
    "embedding_vector_lenth = 60 # 词嵌入向量的长度为60\n",
    "rnn_lstm = Sequential()\n",
    "rnn_lstm.add(Embedding(dictionary_size, embedding_vector_lenth)) # no input_lenth, why?\n",
    "rnn_lstm.add(LSTM(100))\n",
    "rnn_lstm.add(Dense(10, activation='relu')) # 全连接层\n",
    "rnn_lstm.add(Dense(6, activation='softmax')) # 分类输出层\n",
    "rnn_lstm.compile(loss='sparse_categorical_crossentropy',\n",
    "           optimizer='adam',\n",
    "           metrics=['acc'])\n",
    "print(rnn_lstm.summary())\n"
   ]
  },
  {
   "cell_type": "code",
   "execution_count": 11,
   "id": "9e1914c4",
   "metadata": {
    "execution": {
     "iopub.execute_input": "2024-03-21T12:04:00.284716Z",
     "iopub.status.busy": "2024-03-21T12:04:00.283885Z",
     "iopub.status.idle": "2024-03-21T12:10:35.672069Z",
     "shell.execute_reply": "2024-03-21T12:10:35.670782Z"
    },
    "papermill": {
     "duration": 395.523051,
     "end_time": "2024-03-21T12:10:35.674623",
     "exception": false,
     "start_time": "2024-03-21T12:04:00.151572",
     "status": "completed"
    },
    "tags": []
   },
   "outputs": [
    {
     "name": "stdout",
     "output_type": "stream",
     "text": [
      "Epoch 1/10\n",
      "\u001b[1m248/248\u001b[0m \u001b[32m━━━━━━━━━━━━━━━━━━━━\u001b[0m\u001b[37m\u001b[0m \u001b[1m40s\u001b[0m 152ms/step - acc: 0.5581 - loss: 1.2898 - val_acc: 0.6086 - val_loss: 0.9567\n",
      "Epoch 2/10\n",
      "\u001b[1m248/248\u001b[0m \u001b[32m━━━━━━━━━━━━━━━━━━━━\u001b[0m\u001b[37m\u001b[0m \u001b[1m38s\u001b[0m 154ms/step - acc: 0.6434 - loss: 0.8588 - val_acc: 0.6122 - val_loss: 0.9430\n",
      "Epoch 3/10\n",
      "\u001b[1m248/248\u001b[0m \u001b[32m━━━━━━━━━━━━━━━━━━━━\u001b[0m\u001b[37m\u001b[0m \u001b[1m41s\u001b[0m 155ms/step - acc: 0.6754 - loss: 0.7871 - val_acc: 0.6159 - val_loss: 0.9219\n",
      "Epoch 4/10\n",
      "\u001b[1m248/248\u001b[0m \u001b[32m━━━━━━━━━━━━━━━━━━━━\u001b[0m\u001b[37m\u001b[0m \u001b[1m38s\u001b[0m 154ms/step - acc: 0.7068 - loss: 0.7140 - val_acc: 0.6148 - val_loss: 0.9363\n",
      "Epoch 5/10\n",
      "\u001b[1m248/248\u001b[0m \u001b[32m━━━━━━━━━━━━━━━━━━━━\u001b[0m\u001b[37m\u001b[0m \u001b[1m38s\u001b[0m 155ms/step - acc: 0.7329 - loss: 0.6508 - val_acc: 0.6071 - val_loss: 0.9652\n",
      "Epoch 6/10\n",
      "\u001b[1m248/248\u001b[0m \u001b[32m━━━━━━━━━━━━━━━━━━━━\u001b[0m\u001b[37m\u001b[0m \u001b[1m38s\u001b[0m 155ms/step - acc: 0.7623 - loss: 0.5841 - val_acc: 0.6140 - val_loss: 1.0031\n",
      "Epoch 7/10\n",
      "\u001b[1m248/248\u001b[0m \u001b[32m━━━━━━━━━━━━━━━━━━━━\u001b[0m\u001b[37m\u001b[0m \u001b[1m41s\u001b[0m 155ms/step - acc: 0.7942 - loss: 0.5228 - val_acc: 0.6064 - val_loss: 1.0473\n",
      "Epoch 8/10\n",
      "\u001b[1m248/248\u001b[0m \u001b[32m━━━━━━━━━━━━━━━━━━━━\u001b[0m\u001b[37m\u001b[0m \u001b[1m39s\u001b[0m 155ms/step - acc: 0.8119 - loss: 0.4803 - val_acc: 0.6103 - val_loss: 1.1902\n",
      "Epoch 9/10\n",
      "\u001b[1m248/248\u001b[0m \u001b[32m━━━━━━━━━━━━━━━━━━━━\u001b[0m\u001b[37m\u001b[0m \u001b[1m41s\u001b[0m 156ms/step - acc: 0.8427 - loss: 0.4287 - val_acc: 0.6049 - val_loss: 1.2747\n",
      "Epoch 10/10\n",
      "\u001b[1m248/248\u001b[0m \u001b[32m━━━━━━━━━━━━━━━━━━━━\u001b[0m\u001b[37m\u001b[0m \u001b[1m40s\u001b[0m 152ms/step - acc: 0.8542 - loss: 0.3960 - val_acc: 0.5852 - val_loss: 1.3098\n"
     ]
    }
   ],
   "source": [
    "history = rnn_lstm.fit(X_train, y_train, validation_split = 0.3, epochs=10, batch_size=64)"
   ]
  }
 ],
 "metadata": {
  "kaggle": {
   "accelerator": "none",
   "dataSources": [
    {
     "datasetId": 631265,
     "sourceId": 1123414,
     "sourceType": "datasetVersion"
    }
   ],
   "dockerImageVersionId": 30664,
   "isGpuEnabled": false,
   "isInternetEnabled": true,
   "language": "python",
   "sourceType": "notebook"
  },
  "kernelspec": {
   "display_name": "Python 3",
   "language": "python",
   "name": "python3"
  },
  "language_info": {
   "codemirror_mode": {
    "name": "ipython",
    "version": 3
   },
   "file_extension": ".py",
   "mimetype": "text/x-python",
   "name": "python",
   "nbconvert_exporter": "python",
   "pygments_lexer": "ipython3",
   "version": "3.10.13"
  },
  "papermill": {
   "default_parameters": {},
   "duration": 594.611999,
   "end_time": "2024-03-21T12:10:38.452905",
   "environment_variables": {},
   "exception": null,
   "input_path": "__notebook__.ipynb",
   "output_path": "__notebook__.ipynb",
   "parameters": {},
   "start_time": "2024-03-21T12:00:43.840906",
   "version": "2.5.0"
  }
 },
 "nbformat": 4,
 "nbformat_minor": 5
}
